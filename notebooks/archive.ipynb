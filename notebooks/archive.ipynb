{
 "cells": [
  {
   "cell_type": "code",
   "execution_count": null,
   "metadata": {},
   "outputs": [],
   "source": [
    "# getting energy data, renewable target exists and percentage of different sources\n",
    "filtdf = filtq(resp19, ['8.0', '8.2'], range(15), range(15))\n",
    "pivdf = filtdf.pivot(values='Response Answer', columns='Column Name', index='Account Number')\n",
    "pivdf.iloc[:,1:] = pivdf.iloc[:,1:].fillna(0)\n",
    "pivdf = pivdf.rename(columns={pivdf.columns[0]:'Renewable Target Exists'})\n",
    "pivdf = pivdf.drop(columns='Total - please ensure this equals 100%')\n",
    "citycompile = citycompile.join(pivdf, how='outer')"
   ]
  },
  {
   "cell_type": "code",
   "execution_count": null,
   "metadata": {},
   "outputs": [],
   "source": [
    "# # getting energy data, renewable target exists and percentage of different sources\n",
    "# filtdf = filtq(resp19, ['8.0'], [0], [0])\n",
    "# pivdf = filtdf.pivot(values='Response Answer', columns='Column Name', index='Account Number')\n",
    "# pivdf.columns = ['Renewable Target Exists']\n",
    "# citycompile = citycompile.join(pivdf, how='outer')\n",
    "\n",
    "filtdf = filtq(resp19, ['8.0a'], range(10), range(10))\n",
    "filtdf = filtdf[filtdf['Account Number']==54113]\n",
    "pivdf = filtdf.pivot(values='Response Answer', columns='Column Name', index='Row Number')"
   ]
  },
  {
   "cell_type": "code",
   "execution_count": null,
   "metadata": {},
   "outputs": [],
   "source": [
    "filtcond = (resp19['Question Number']=='4.3') & (resp19['Column Number']==1) & (resp19['Row Number']==1)\n",
    "emProt19 = resp19[filtcond]\n",
    "emProt19.groupby(['Response Answer']).nunique().sort_values(by=['Account Number'], ascending=False)['Account Number'][0]"
   ]
  },
  {
   "cell_type": "code",
   "execution_count": null,
   "metadata": {},
   "outputs": [],
   "source": [
    "# imputing mean for missing pop and area values\n",
    "citycompile = citycompile.fillna(citycompile.mean())"
   ]
  },
  {
   "cell_type": "code",
   "execution_count": null,
   "metadata": {},
   "outputs": [],
   "source": [
    "citycompile.iloc[:,4:].head().div(citycompile.iloc[:,0].head(),axis=0)"
   ]
  },
  {
   "cell_type": "code",
   "execution_count": 1,
   "metadata": {},
   "outputs": [
    {
     "ename": "NameError",
     "evalue": "name 'preprocessing' is not defined",
     "output_type": "error",
     "traceback": [
      "\u001b[1;31m---------------------------------------------------------------------------\u001b[0m",
      "\u001b[1;31mNameError\u001b[0m                                 Traceback (most recent call last)",
      "\u001b[1;32m<ipython-input-1-9dcff9cdd629>\u001b[0m in \u001b[0;36m<module>\u001b[1;34m()\u001b[0m\n\u001b[1;32m----> 1\u001b[1;33m \u001b[0mle\u001b[0m \u001b[1;33m=\u001b[0m \u001b[0mpreprocessing\u001b[0m\u001b[1;33m.\u001b[0m\u001b[0mLabelEncoder\u001b[0m\u001b[1;33m(\u001b[0m\u001b[1;33m)\u001b[0m\u001b[1;33m\u001b[0m\u001b[0m\n\u001b[0m\u001b[0;32m      2\u001b[0m \u001b[0mcitycatvars\u001b[0m \u001b[1;33m=\u001b[0m \u001b[0mcitycompile\u001b[0m\u001b[1;33m.\u001b[0m\u001b[0mselect_dtypes\u001b[0m\u001b[1;33m(\u001b[0m\u001b[0minclude\u001b[0m\u001b[1;33m=\u001b[0m\u001b[1;34m'object'\u001b[0m\u001b[1;33m)\u001b[0m\u001b[1;33m.\u001b[0m\u001b[0mapply\u001b[0m\u001b[1;33m(\u001b[0m\u001b[0mle\u001b[0m\u001b[1;33m.\u001b[0m\u001b[0mfit_transform\u001b[0m\u001b[1;33m)\u001b[0m\u001b[1;33m\u001b[0m\u001b[0m\n",
      "\u001b[1;31mNameError\u001b[0m: name 'preprocessing' is not defined"
     ]
    }
   ],
   "source": [
    "le = preprocessing.LabelEncoder()\n",
    "citycatvars = citycompile.select_dtypes(include='object').apply(le.fit_transform)"
   ]
  },
  {
   "cell_type": "code",
   "execution_count": null,
   "metadata": {},
   "outputs": [],
   "source": []
  }
 ],
 "metadata": {
  "kernelspec": {
   "display_name": "Python 3",
   "language": "python",
   "name": "python3"
  },
  "language_info": {
   "codemirror_mode": {
    "name": "ipython",
    "version": 3
   },
   "file_extension": ".py",
   "mimetype": "text/x-python",
   "name": "python",
   "nbconvert_exporter": "python",
   "pygments_lexer": "ipython3",
   "version": "3.7.0"
  }
 },
 "nbformat": 4,
 "nbformat_minor": 2
}
