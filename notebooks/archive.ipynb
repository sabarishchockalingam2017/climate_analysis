{
 "cells": [
  {
   "cell_type": "code",
   "execution_count": null,
   "metadata": {},
   "outputs": [],
   "source": [
    "# getting energy data, renewable target exists and percentage of different sources\n",
    "filtdf = filtq(resp19, ['8.0', '8.2'], range(15), range(15))\n",
    "pivdf = filtdf.pivot(values='Response Answer', columns='Column Name', index='Account Number')\n",
    "pivdf.iloc[:,1:] = pivdf.iloc[:,1:].fillna(0)\n",
    "pivdf = pivdf.rename(columns={pivdf.columns[0]:'Renewable Target Exists'})\n",
    "pivdf = pivdf.drop(columns='Total - please ensure this equals 100%')\n",
    "citycompile = citycompile.join(pivdf, how='outer')"
   ]
  },
  {
   "cell_type": "code",
   "execution_count": null,
   "metadata": {},
   "outputs": [],
   "source": [
    "# # getting energy data, renewable target exists and percentage of different sources\n",
    "# filtdf = filtq(resp19, ['8.0'], [0], [0])\n",
    "# pivdf = filtdf.pivot(values='Response Answer', columns='Column Name', index='Account Number')\n",
    "# pivdf.columns = ['Renewable Target Exists']\n",
    "# citycompile = citycompile.join(pivdf, how='outer')\n",
    "\n",
    "filtdf = filtq(resp19, ['8.0a'], range(10), range(10))\n",
    "filtdf = filtdf[filtdf['Account Number']==54113]\n",
    "pivdf = filtdf.pivot(values='Response Answer', columns='Column Name', index='Row Number')"
   ]
  },
  {
   "cell_type": "code",
   "execution_count": null,
   "metadata": {},
   "outputs": [],
   "source": [
    "filtcond = (resp19['Question Number']=='4.3') & (resp19['Column Number']==1) & (resp19['Row Number']==1)\n",
    "emProt19 = resp19[filtcond]\n",
    "emProt19.groupby(['Response Answer']).nunique().sort_values(by=['Account Number'], ascending=False)['Account Number'][0]"
   ]
  },
  {
   "cell_type": "code",
   "execution_count": null,
   "metadata": {},
   "outputs": [],
   "source": [
    "# imputing mean for missing pop and area values\n",
    "citycompile = citycompile.fillna(citycompile.mean())"
   ]
  },
  {
   "cell_type": "code",
   "execution_count": null,
   "metadata": {},
   "outputs": [],
   "source": [
    "citycompile.iloc[:,4:].head().div(citycompile.iloc[:,0].head(),axis=0)"
   ]
  },
  {
   "cell_type": "code",
   "execution_count": 1,
   "metadata": {},
   "outputs": [
    {
     "ename": "NameError",
     "evalue": "name 'preprocessing' is not defined",
     "output_type": "error",
     "traceback": [
      "\u001b[1;31m---------------------------------------------------------------------------\u001b[0m",
      "\u001b[1;31mNameError\u001b[0m                                 Traceback (most recent call last)",
      "\u001b[1;32m<ipython-input-1-9dcff9cdd629>\u001b[0m in \u001b[0;36m<module>\u001b[1;34m()\u001b[0m\n\u001b[1;32m----> 1\u001b[1;33m \u001b[0mle\u001b[0m \u001b[1;33m=\u001b[0m \u001b[0mpreprocessing\u001b[0m\u001b[1;33m.\u001b[0m\u001b[0mLabelEncoder\u001b[0m\u001b[1;33m(\u001b[0m\u001b[1;33m)\u001b[0m\u001b[1;33m\u001b[0m\u001b[0m\n\u001b[0m\u001b[0;32m      2\u001b[0m \u001b[0mcitycatvars\u001b[0m \u001b[1;33m=\u001b[0m \u001b[0mcitycompile\u001b[0m\u001b[1;33m.\u001b[0m\u001b[0mselect_dtypes\u001b[0m\u001b[1;33m(\u001b[0m\u001b[0minclude\u001b[0m\u001b[1;33m=\u001b[0m\u001b[1;34m'object'\u001b[0m\u001b[1;33m)\u001b[0m\u001b[1;33m.\u001b[0m\u001b[0mapply\u001b[0m\u001b[1;33m(\u001b[0m\u001b[0mle\u001b[0m\u001b[1;33m.\u001b[0m\u001b[0mfit_transform\u001b[0m\u001b[1;33m)\u001b[0m\u001b[1;33m\u001b[0m\u001b[0m\n",
      "\u001b[1;31mNameError\u001b[0m: name 'preprocessing' is not defined"
     ]
    }
   ],
   "source": [
    "le = preprocessing.LabelEncoder()\n",
    "citycatvars = citycompile.select_dtypes(include='object').apply(le.fit_transform)"
   ]
  },
  {
   "cell_type": "code",
   "execution_count": 1,
   "metadata": {},
   "outputs": [],
   "source": [
    "import pandas as pd"
   ]
  },
  {
   "cell_type": "code",
   "execution_count": 2,
   "metadata": {},
   "outputs": [],
   "source": [
    "\n",
    "cities19 = pd.read_csv('../data/Cities/Cities Disclosing/2019_Cities_Disclosing_to_CDP.csv')"
   ]
  },
  {
   "cell_type": "code",
   "execution_count": 23,
   "metadata": {},
   "outputs": [],
   "source": [
    "import re\n",
    "import numpy as np"
   ]
  },
  {
   "cell_type": "code",
   "execution_count": 104,
   "metadata": {},
   "outputs": [],
   "source": [
    "def getlonlat(ptstr):\n",
    "    ''' Gets longtitude and latitude from string of format POINT(lon lat)'''\n",
    "    if type(ptstr) == str:\n",
    "        numstr = re.findall('[0-9.-]+',ptstr)\n",
    "        lonval=float(numstr[0])\n",
    "        latval=float(numstr[1])\n",
    "        return [lonval, latval]\n",
    "    else:\n",
    "        return np.nan"
   ]
  },
  {
   "cell_type": "code",
   "execution_count": 105,
   "metadata": {},
   "outputs": [
    {
     "data": {
      "text/plain": [
       "[-41.6667, -20.7]"
      ]
     },
     "execution_count": 105,
     "metadata": {},
     "output_type": "execute_result"
    }
   ],
   "source": [
    "teststr = cities19.loc[856,'City Location']\n",
    "getlonlat(teststr)"
   ]
  },
  {
   "cell_type": "code",
   "execution_count": 98,
   "metadata": {},
   "outputs": [
    {
     "data": {
      "text/plain": [
       "-41.6667"
      ]
     },
     "execution_count": 98,
     "metadata": {},
     "output_type": "execute_result"
    }
   ],
   "source": [
    "testr2 = re.findall('[0-9.-]+',teststr)\n",
    "float(testr2[0])"
   ]
  },
  {
   "cell_type": "code",
   "execution_count": 101,
   "metadata": {},
   "outputs": [
    {
     "data": {
      "text/plain": [
       "True"
      ]
     },
     "execution_count": 101,
     "metadata": {},
     "output_type": "execute_result"
    }
   ],
   "source": [
    "type(teststr) == str"
   ]
  },
  {
   "cell_type": "code",
   "execution_count": 4,
   "metadata": {
    "scrolled": true
   },
   "outputs": [
    {
     "data": {
      "text/html": [
       "<div>\n",
       "<style scoped>\n",
       "    .dataframe tbody tr th:only-of-type {\n",
       "        vertical-align: middle;\n",
       "    }\n",
       "\n",
       "    .dataframe tbody tr th {\n",
       "        vertical-align: top;\n",
       "    }\n",
       "\n",
       "    .dataframe thead th {\n",
       "        text-align: right;\n",
       "    }\n",
       "</style>\n",
       "<table border=\"1\" class=\"dataframe\">\n",
       "  <thead>\n",
       "    <tr style=\"text-align: right;\">\n",
       "      <th></th>\n",
       "      <th>Year Reported to CDP</th>\n",
       "      <th>Account Number</th>\n",
       "      <th>Organization</th>\n",
       "      <th>City</th>\n",
       "      <th>Country</th>\n",
       "      <th>CDP Region</th>\n",
       "      <th>Reporting Authority</th>\n",
       "      <th>Access</th>\n",
       "      <th>First Time Discloser</th>\n",
       "      <th>Population</th>\n",
       "      <th>Population Year</th>\n",
       "      <th>City Location</th>\n",
       "      <th>Last update</th>\n",
       "    </tr>\n",
       "  </thead>\n",
       "  <tbody>\n",
       "    <tr>\n",
       "      <th>0</th>\n",
       "      <td>2019</td>\n",
       "      <td>840309</td>\n",
       "      <td>Markaryds Kommun</td>\n",
       "      <td>NaN</td>\n",
       "      <td>Sweden</td>\n",
       "      <td>Europe</td>\n",
       "      <td>CDP Cities,ICLEI - Local Governments for Susta...</td>\n",
       "      <td>public</td>\n",
       "      <td>Yes</td>\n",
       "      <td>NaN</td>\n",
       "      <td>0</td>\n",
       "      <td>NaN</td>\n",
       "      <td>2020-06-25T04:52:51.327</td>\n",
       "    </tr>\n",
       "    <tr>\n",
       "      <th>1</th>\n",
       "      <td>2019</td>\n",
       "      <td>54609</td>\n",
       "      <td>Alcaldia de Trujillo</td>\n",
       "      <td>Trujillo</td>\n",
       "      <td>Peru</td>\n",
       "      <td>Latin America</td>\n",
       "      <td>CDP Cities</td>\n",
       "      <td>public</td>\n",
       "      <td>Yes</td>\n",
       "      <td>971116.0</td>\n",
       "      <td>217</td>\n",
       "      <td>NaN</td>\n",
       "      <td>2020-06-25T04:52:51.327</td>\n",
       "    </tr>\n",
       "    <tr>\n",
       "      <th>2</th>\n",
       "      <td>2019</td>\n",
       "      <td>840914</td>\n",
       "      <td>Prefeitura de Cáceres</td>\n",
       "      <td>NaN</td>\n",
       "      <td>Brazil</td>\n",
       "      <td>Latin America</td>\n",
       "      <td>CDP Cities</td>\n",
       "      <td>public</td>\n",
       "      <td>Yes</td>\n",
       "      <td>NaN</td>\n",
       "      <td>0</td>\n",
       "      <td>NaN</td>\n",
       "      <td>2020-06-25T04:52:51.327</td>\n",
       "    </tr>\n",
       "    <tr>\n",
       "      <th>3</th>\n",
       "      <td>2019</td>\n",
       "      <td>841416</td>\n",
       "      <td>Municipalidad de Puerto Esperanza</td>\n",
       "      <td>NaN</td>\n",
       "      <td>Argentina</td>\n",
       "      <td>Latin America</td>\n",
       "      <td>CDP Cities</td>\n",
       "      <td>public</td>\n",
       "      <td>Yes</td>\n",
       "      <td>NaN</td>\n",
       "      <td>0</td>\n",
       "      <td>NaN</td>\n",
       "      <td>2020-06-25T04:52:51.327</td>\n",
       "    </tr>\n",
       "    <tr>\n",
       "      <th>4</th>\n",
       "      <td>2019</td>\n",
       "      <td>840030</td>\n",
       "      <td>Reconquista</td>\n",
       "      <td>NaN</td>\n",
       "      <td>Argentina</td>\n",
       "      <td>Latin America</td>\n",
       "      <td>CDP Cities</td>\n",
       "      <td>public</td>\n",
       "      <td>Yes</td>\n",
       "      <td>NaN</td>\n",
       "      <td>0</td>\n",
       "      <td>NaN</td>\n",
       "      <td>2020-06-25T04:52:51.327</td>\n",
       "    </tr>\n",
       "    <tr>\n",
       "      <th>...</th>\n",
       "      <td>...</td>\n",
       "      <td>...</td>\n",
       "      <td>...</td>\n",
       "      <td>...</td>\n",
       "      <td>...</td>\n",
       "      <td>...</td>\n",
       "      <td>...</td>\n",
       "      <td>...</td>\n",
       "      <td>...</td>\n",
       "      <td>...</td>\n",
       "      <td>...</td>\n",
       "      <td>...</td>\n",
       "      <td>...</td>\n",
       "    </tr>\n",
       "    <tr>\n",
       "      <th>856</th>\n",
       "      <td>2019</td>\n",
       "      <td>45219</td>\n",
       "      <td>Município de Aparecida</td>\n",
       "      <td>Aparecida</td>\n",
       "      <td>Brazil</td>\n",
       "      <td>Latin America</td>\n",
       "      <td>CDP Cities</td>\n",
       "      <td>public</td>\n",
       "      <td>No</td>\n",
       "      <td>NaN</td>\n",
       "      <td>0</td>\n",
       "      <td>POINT (-41.6667 -20.7)</td>\n",
       "      <td>2020-06-25T04:52:51.327</td>\n",
       "    </tr>\n",
       "    <tr>\n",
       "      <th>857</th>\n",
       "      <td>2019</td>\n",
       "      <td>58591</td>\n",
       "      <td>City of Greenbelt, MD</td>\n",
       "      <td>NaN</td>\n",
       "      <td>United States of America</td>\n",
       "      <td>North America</td>\n",
       "      <td>CDP Cities,ICLEI - Local Governments for Susta...</td>\n",
       "      <td>public</td>\n",
       "      <td>No</td>\n",
       "      <td>23000.0</td>\n",
       "      <td>2010</td>\n",
       "      <td>NaN</td>\n",
       "      <td>2020-06-25T04:52:51.327</td>\n",
       "    </tr>\n",
       "    <tr>\n",
       "      <th>858</th>\n",
       "      <td>2019</td>\n",
       "      <td>60347</td>\n",
       "      <td>Prefeitura da Estância Climática de São Bento ...</td>\n",
       "      <td>São Bento do Sapucaí</td>\n",
       "      <td>Brazil</td>\n",
       "      <td>Latin America</td>\n",
       "      <td>CDP Cities</td>\n",
       "      <td>non public</td>\n",
       "      <td>No</td>\n",
       "      <td>11000.0</td>\n",
       "      <td>2017</td>\n",
       "      <td>POINT (-45.732 -22.6874)</td>\n",
       "      <td>2020-06-25T04:52:51.327</td>\n",
       "    </tr>\n",
       "    <tr>\n",
       "      <th>859</th>\n",
       "      <td>2019</td>\n",
       "      <td>3417</td>\n",
       "      <td>New York City</td>\n",
       "      <td>New York City</td>\n",
       "      <td>United States of America</td>\n",
       "      <td>North America</td>\n",
       "      <td>C40,CDP Cities,ICLEI - Local Governments for S...</td>\n",
       "      <td>public</td>\n",
       "      <td>No</td>\n",
       "      <td>8622700.0</td>\n",
       "      <td>2017</td>\n",
       "      <td>POINT (-74.0059 40.7128)</td>\n",
       "      <td>2020-06-25T04:52:51.327</td>\n",
       "    </tr>\n",
       "    <tr>\n",
       "      <th>860</th>\n",
       "      <td>2019</td>\n",
       "      <td>61753</td>\n",
       "      <td>Yilan County Government</td>\n",
       "      <td>Yilan County</td>\n",
       "      <td>Taiwan, Greater China</td>\n",
       "      <td>East Asia</td>\n",
       "      <td>CDP Cities</td>\n",
       "      <td>public</td>\n",
       "      <td>No</td>\n",
       "      <td>NaN</td>\n",
       "      <td>0</td>\n",
       "      <td>POINT (121.763 24.7309)</td>\n",
       "      <td>2020-06-25T04:52:51.327</td>\n",
       "    </tr>\n",
       "  </tbody>\n",
       "</table>\n",
       "<p>861 rows × 13 columns</p>\n",
       "</div>"
      ],
      "text/plain": [
       "     Year Reported to CDP  Account Number  \\\n",
       "0                    2019          840309   \n",
       "1                    2019           54609   \n",
       "2                    2019          840914   \n",
       "3                    2019          841416   \n",
       "4                    2019          840030   \n",
       "..                    ...             ...   \n",
       "856                  2019           45219   \n",
       "857                  2019           58591   \n",
       "858                  2019           60347   \n",
       "859                  2019            3417   \n",
       "860                  2019           61753   \n",
       "\n",
       "                                          Organization                  City  \\\n",
       "0                                     Markaryds Kommun                   NaN   \n",
       "1                                 Alcaldia de Trujillo              Trujillo   \n",
       "2                                Prefeitura de Cáceres                   NaN   \n",
       "3                    Municipalidad de Puerto Esperanza                   NaN   \n",
       "4                                          Reconquista                   NaN   \n",
       "..                                                 ...                   ...   \n",
       "856                             Município de Aparecida             Aparecida   \n",
       "857                              City of Greenbelt, MD                   NaN   \n",
       "858  Prefeitura da Estância Climática de São Bento ...  São Bento do Sapucaí   \n",
       "859                                      New York City         New York City   \n",
       "860                            Yilan County Government          Yilan County   \n",
       "\n",
       "                      Country     CDP Region  \\\n",
       "0                      Sweden         Europe   \n",
       "1                        Peru  Latin America   \n",
       "2                      Brazil  Latin America   \n",
       "3                   Argentina  Latin America   \n",
       "4                   Argentina  Latin America   \n",
       "..                        ...            ...   \n",
       "856                    Brazil  Latin America   \n",
       "857  United States of America  North America   \n",
       "858                    Brazil  Latin America   \n",
       "859  United States of America  North America   \n",
       "860     Taiwan, Greater China      East Asia   \n",
       "\n",
       "                                   Reporting Authority      Access  \\\n",
       "0    CDP Cities,ICLEI - Local Governments for Susta...      public   \n",
       "1                                           CDP Cities      public   \n",
       "2                                           CDP Cities      public   \n",
       "3                                           CDP Cities      public   \n",
       "4                                           CDP Cities      public   \n",
       "..                                                 ...         ...   \n",
       "856                                         CDP Cities      public   \n",
       "857  CDP Cities,ICLEI - Local Governments for Susta...      public   \n",
       "858                                         CDP Cities  non public   \n",
       "859  C40,CDP Cities,ICLEI - Local Governments for S...      public   \n",
       "860                                         CDP Cities      public   \n",
       "\n",
       "    First Time Discloser  Population  Population Year  \\\n",
       "0                    Yes         NaN                0   \n",
       "1                    Yes    971116.0              217   \n",
       "2                    Yes         NaN                0   \n",
       "3                    Yes         NaN                0   \n",
       "4                    Yes         NaN                0   \n",
       "..                   ...         ...              ...   \n",
       "856                   No         NaN                0   \n",
       "857                   No     23000.0             2010   \n",
       "858                   No     11000.0             2017   \n",
       "859                   No   8622700.0             2017   \n",
       "860                   No         NaN                0   \n",
       "\n",
       "                City Location              Last update  \n",
       "0                         NaN  2020-06-25T04:52:51.327  \n",
       "1                         NaN  2020-06-25T04:52:51.327  \n",
       "2                         NaN  2020-06-25T04:52:51.327  \n",
       "3                         NaN  2020-06-25T04:52:51.327  \n",
       "4                         NaN  2020-06-25T04:52:51.327  \n",
       "..                        ...                      ...  \n",
       "856    POINT (-41.6667 -20.7)  2020-06-25T04:52:51.327  \n",
       "857                       NaN  2020-06-25T04:52:51.327  \n",
       "858  POINT (-45.732 -22.6874)  2020-06-25T04:52:51.327  \n",
       "859  POINT (-74.0059 40.7128)  2020-06-25T04:52:51.327  \n",
       "860   POINT (121.763 24.7309)  2020-06-25T04:52:51.327  \n",
       "\n",
       "[861 rows x 13 columns]"
      ]
     },
     "execution_count": 4,
     "metadata": {},
     "output_type": "execute_result"
    }
   ],
   "source": [
    "cities19"
   ]
  }
 ],
 "metadata": {
  "kernelspec": {
   "display_name": "Python 3",
   "language": "python",
   "name": "python3"
  },
  "language_info": {
   "codemirror_mode": {
    "name": "ipython",
    "version": 3
   },
   "file_extension": ".py",
   "mimetype": "text/x-python",
   "name": "python",
   "nbconvert_exporter": "python",
   "pygments_lexer": "ipython3",
   "version": "3.7.9"
  }
 },
 "nbformat": 4,
 "nbformat_minor": 2
}
